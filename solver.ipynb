{
 "cells": [
  {
   "cell_type": "markdown",
   "metadata": {},
   "source": [
    "#  - IMPORTS - "
   ]
  },
  {
   "cell_type": "code",
   "execution_count": 55,
   "metadata": {},
   "outputs": [],
   "source": [
    "import numpy as np \n",
    "import matplotlib.pyplot as plt\n",
    "import os\n",
    "from keras import layers\n",
    "from keras.models import Model\n",
    "from tensorflow.keras.models import Model\n",
    "from keras.models import load_model\n",
    "from keras import callbacks\n",
    "import cv2\n",
    "import string\n",
    "import time"
   ]
  },
  {
   "cell_type": "markdown",
   "metadata": {},
   "source": [
    "#  - INIT - "
   ]
  },
  {
   "cell_type": "code",
   "execution_count": 56,
   "metadata": {},
   "outputs": [
    {
     "data": {
      "text/plain": [
       "36"
      ]
     },
     "execution_count": 56,
     "metadata": {},
     "output_type": "execute_result"
    }
   ],
   "source": [
    "imgshape=(50,200,1)\n",
    "\n",
    "# n is the total number of images in the training dataset\n",
    "n=len(os.listdir(\"./captcha_dataset/train_set\"))\n",
    "n\n",
    "\n",
    "# n char is the total nu.of possible characters\n",
    "character = string.ascii_lowercase + \"0123456789\"\n",
    "nchar = len(character)\n",
    "nchar"
   ]
  },
  {
   "cell_type": "markdown",
   "metadata": {},
   "source": [
    "#  - PREPROCESS - "
   ]
  },
  {
   "cell_type": "code",
   "execution_count": 57,
   "metadata": {},
   "outputs": [],
   "source": [
    "def preprocess():\n",
    "    x = np.zeros((n,50,200,1)) # 1030*5*200*1\n",
    "    y = np.zeros((5,n,nchar)) # 5*1030*36\n",
    "\n",
    "    # enumerate() gives us [(0,filename),(1,filename),(2,filename)]\n",
    "    # i represents the index\n",
    "    # pic contains the filename of the image\n",
    "\n",
    "    for i, pic in enumerate(os.listdir(\"./captcha_dataset/train_set/\")):\n",
    "        img = cv2.imread(os.path.join(\"./captcha_dataset/train_set/\", pic), cv2.IMREAD_GRAYSCALE)\n",
    "        pic_target = pic[:-4] #This is the target we are trying to achieve 2b827 for example after dropping the file extension\n",
    "\n",
    "        if len(pic_target) < 6: # Making sure captcha is less than 5 letters long\n",
    "            img = img/255.0\n",
    "            img = np.reshape(img, (50, 200, 1))\n",
    "\n",
    "            target=np.zeros((5,nchar))\n",
    "\n",
    "            for j, k in enumerate(pic_target):\n",
    "                #j iterates from 0 to 4(5 letters in captcha)\n",
    "                #k denotes the letter in captcha which is to be scanned\n",
    "                index = character.find(k) #index stores the position of letter k of captcha in the character string\n",
    "                target[j, index] = 1 #replaces 1 in the target array at the position of the letter in captcha\n",
    "\n",
    "            x[i] = img\n",
    "            y[:,i] = target\n",
    "            \n",
    "    return x,y"
   ]
  },
  {
   "cell_type": "markdown",
   "metadata": {},
   "source": [
    "#  - Model Creation - 3 Convolutional Layers + 3 Max Pooling Layers + Others - "
   ]
  },
  {
   "cell_type": "code",
   "execution_count": null,
   "metadata": {},
   "outputs": [],
   "source": [
    "def createmodel():\n",
    "    img = layers.Input(shape=imgshape)\n",
    "    conv1 = layers.Conv2D(32,(3,3), padding='same', activation='relu',name='conv1')(img)\n",
    "    mp1 = layers.MaxPooling2D((2,2),padding='same')(conv1)\n",
    "    conv2 = layers.Conv2D(32, (3, 3), padding='same', activation='relu')(mp1)\n",
    "    mp2 = layers.MaxPooling2D((2,2),padding='same')(conv2)\n",
    "    conv3 = layers.Conv2D(32, (3, 3), padding='same', activation='relu')(mp2)\n",
    "    bn = layers.BatchNormalization()(conv3)\n",
    "    mp3 = layers.MaxPooling2D((2,2),padding='same')(bn)\n",
    "    flat = layers.Flatten()(mp3)\n",
    "\n",
    "    outs = []\n",
    "    for _ in range(5): #for 5 letters of captcha\n",
    "        dens1 = layers.Dense(64, activation='relu')(flat)\n",
    "        drop = layers.Dropout(0.5)(dens1) #drops 0.5 of nodes\n",
    "        res = layers.Dense(nchar, activation='sigmoid')(drop)\n",
    "\n",
    "        outs.append(res) #result of layers\n",
    "    model = Model(img, outs) #create model\n",
    "    model.compile(loss='categorical_crossentropy', optimizer='adam',metrics=[\"accuracy\",\"accuracy\",\"accuracy\",\"accuracy\",\"accuracy\"])\n",
    "    return model\n",
    "\n",
    "model = createmodel()\n",
    "model.summary()\n"
   ]
  },
  {
   "cell_type": "markdown",
   "metadata": {},
   "source": [
    "# - Model Training With 30 Epochs -"
   ]
  },
  {
   "cell_type": "code",
   "execution_count": null,
   "metadata": {},
   "outputs": [],
   "source": [
    "x,y = preprocess()\n",
    "hist = model.fit(x, [y[0], y[1], y[2], y[3], y[4]], batch_size=32, epochs=30, validation_split=0.2)\n"
   ]
  },
  {
   "cell_type": "markdown",
   "metadata": {},
   "source": [
    "# - Loss On Trianing Set -"
   ]
  },
  {
   "cell_type": "code",
   "execution_count": null,
   "metadata": {},
   "outputs": [],
   "source": [
    "preds = model.evaluate(x, [y[0], y[1], y[2], y[3], y[4]])\n",
    "print (\"Loss on training set= \" + str(preds[0]))"
   ]
  },
  {
   "cell_type": "markdown",
   "metadata": {},
   "source": [
    "# - Loss On Testing Set - (Unseen Data)"
   ]
  },
  {
   "cell_type": "code",
   "execution_count": null,
   "metadata": {},
   "outputs": [],
   "source": [
    "# Preprocess Test Data the same way we did for Training Data\n",
    "def preprocess():\n",
    "    x = np.zeros((40,50,200,1)) # 1030*5*200*1\n",
    "    y = np.zeros((5,40,nchar)) # 5*1030*36\n",
    "\n",
    "    # enumerate() gives us [(0,filename),(1,filename),(2,filename)]\n",
    "    # i represents the index\n",
    "    # pic contains the filename of the image\n",
    "\n",
    "    for i, pic in enumerate(os.listdir(\"./captcha_dataset/test_set/\")):\n",
    "        img = cv2.imread(os.path.join(\"./captcha_dataset/test_set/\", pic), cv2.IMREAD_GRAYSCALE)\n",
    "        pic_target = pic[:-4] #This is the target we are trying to achieve 2b827 for example after dropping the file extension\n",
    "\n",
    "        if len(pic_target) < 6: # Making sure captcha is less than 5 letters long\n",
    "            img = img/255.0\n",
    "            img = np.reshape(img, (50, 200, 1))\n",
    "\n",
    "            target=np.zeros((5,nchar))\n",
    "\n",
    "            for j, k in enumerate(pic_target):\n",
    "                #j iterates from 0 to 4(5 letters in captcha)\n",
    "                #k denotes the letter in captcha which is to be scanned\n",
    "                index = character.find(k) #index stores the position of letter k of captcha in the character string\n",
    "                target[j, index] = 1 #replaces 0 with 1 in the target array at the position of the letter in captcha\n",
    "\n",
    "            x[i] = img\n",
    "            y[:,i] = target\n",
    "            \n",
    "    return x,y\n",
    "\n",
    "x,y = preprocess()\n",
    "\n",
    "preds = model.evaluate(x, [y[0], y[1], y[2], y[3], y[4]])\n",
    "print (\"Loss on testing set= \" + str(preds[0]))"
   ]
  },
  {
   "cell_type": "markdown",
   "metadata": {},
   "source": [
    "# - Predict Function - "
   ]
  },
  {
   "cell_type": "code",
   "execution_count": null,
   "metadata": {},
   "outputs": [],
   "source": [
    "def predict(filepath):\n",
    "    img = cv2.imread(filepath, cv2.IMREAD_GRAYSCALE)\n",
    "\n",
    "    if img is not None: #image foud at file path\n",
    "        img = img / 255.0 #Scale image\n",
    "    else:\n",
    "        print(\"Not detected\")\n",
    "\n",
    "    res = np.array(model.predict(img[np.newaxis, :, :, np.newaxis]))\n",
    "    result = np.reshape(res, (5, 36))\n",
    "    k_ind = []\n",
    "    probs = []\n",
    "    for i in result:\n",
    "        k_ind.append(np.argmax(i))\n",
    "\n",
    "    capt = ''\n",
    "    for k in k_ind:\n",
    "        capt += character[k]\n",
    "    return capt "
   ]
  },
  {
   "cell_type": "markdown",
   "metadata": {},
   "source": [
    "# - Model Predicting Unseen Data -"
   ]
  },
  {
   "cell_type": "code",
   "execution_count": null,
   "metadata": {},
   "outputs": [],
   "source": [
    "for i, pic in enumerate(os.listdir(\"./captcha_dataset/test_set/\")):\n",
    "    img = cv2.imread(f'./captcha_dataset/test_set/{pic}',cv2.IMREAD_GRAYSCALE)\n",
    "    plt.imshow(img, cmap='gray') \n",
    "    plt.show()\n",
    "    print(\"Predicted Captcha =\",predict(f'./captcha_dataset/test_set/{pic}'))\n",
    "    plt.clf()\n",
    "    time.sleep(5)"
   ]
  }
 ],
 "metadata": {
  "kernelspec": {
   "display_name": "Python 3",
   "language": "python",
   "name": "python3"
  },
  "language_info": {
   "codemirror_mode": {
    "name": "ipython",
    "version": 3
   },
   "file_extension": ".py",
   "mimetype": "text/x-python",
   "name": "python",
   "nbconvert_exporter": "python",
   "pygments_lexer": "ipython3",
   "version": "3.11.5"
  }
 },
 "nbformat": 4,
 "nbformat_minor": 2
}
